{
 "cells": [
  {
   "cell_type": "markdown",
   "metadata": {
    "colab_type": "text",
    "id": "a0Sa9q0UR_0I"
   },
   "source": [
    "## Installing Firebase SDK\n",
    "Our data comes from firebase so we install the firebase SDK to access it."
   ]
  },
  {
   "cell_type": "code",
   "execution_count": 1,
   "metadata": {
    "colab": {
     "base_uri": "https://localhost:8080/",
     "height": 428
    },
    "colab_type": "code",
    "id": "ZXb7Tl9KegEG",
    "outputId": "6dcf8d55-5824-4e99-fa4b-8f3944344f58"
   },
   "outputs": [
    {
     "name": "stdout",
     "output_type": "stream",
     "text": [
      "Requirement already satisfied: firebase-admin in c:\\users\\lexdy\\appdata\\local\\programs\\python\\python36\\lib\\site-packages (2.16.0)\n",
      "Requirement already satisfied: google-cloud-firestore>=0.31.0; platform_python_implementation != \"PyPy\" in c:\\users\\lexdy\\appdata\\local\\programs\\python\\python36\\lib\\site-packages (from firebase-admin) (0.31.0)\n",
      "Requirement already satisfied: cachecontrol>=0.12.4 in c:\\users\\lexdy\\appdata\\local\\programs\\python\\python36\\lib\\site-packages (from firebase-admin) (0.12.5)\n",
      "Requirement already satisfied: google-cloud-storage>=1.13.0 in c:\\users\\lexdy\\appdata\\local\\programs\\python\\python36\\lib\\site-packages (from firebase-admin) (1.14.0)\n",
      "Requirement already satisfied: six>=1.6.1 in c:\\users\\lexdy\\appdata\\local\\programs\\python\\python36\\lib\\site-packages (from firebase-admin) (1.11.0)\n",
      "Requirement already satisfied: google-api-core[grpc]<2.0.0dev,>=1.7.0; platform_python_implementation != \"PyPy\" in c:\\users\\lexdy\\appdata\\local\\programs\\python\\python36\\lib\\site-packages (from firebase-admin) (1.8.0)\n",
      "Requirement already satisfied: google-cloud-core<0.30dev,>=0.29.0 in c:\\users\\lexdy\\appdata\\local\\programs\\python\\python36\\lib\\site-packages (from google-cloud-firestore>=0.31.0; platform_python_implementation != \"PyPy\"->firebase-admin) (0.29.1)\n",
      "Requirement already satisfied: pytz in c:\\users\\lexdy\\appdata\\local\\programs\\python\\python36\\lib\\site-packages (from google-cloud-firestore>=0.31.0; platform_python_implementation != \"PyPy\"->firebase-admin) (2018.5)\n",
      "Requirement already satisfied: requests in c:\\users\\lexdy\\appdata\\local\\programs\\python\\python36\\lib\\site-packages (from cachecontrol>=0.12.4->firebase-admin) (2.19.1)\n",
      "Requirement already satisfied: msgpack in c:\\users\\lexdy\\appdata\\local\\programs\\python\\python36\\lib\\site-packages (from cachecontrol>=0.12.4->firebase-admin) (0.6.1)\n",
      "Requirement already satisfied: google-resumable-media>=0.3.1 in c:\\users\\lexdy\\appdata\\local\\programs\\python\\python36\\lib\\site-packages (from google-cloud-storage>=1.13.0->firebase-admin) (0.3.2)\n",
      "Requirement already satisfied: setuptools>=34.0.0 in c:\\users\\lexdy\\appdata\\local\\programs\\python\\python36\\lib\\site-packages (from google-api-core[grpc]<2.0.0dev,>=1.7.0; platform_python_implementation != \"PyPy\"->firebase-admin) (39.0.1)\n",
      "Requirement already satisfied: google-auth<2.0dev,>=0.4.0 in c:\\users\\lexdy\\appdata\\local\\programs\\python\\python36\\lib\\site-packages (from google-api-core[grpc]<2.0.0dev,>=1.7.0; platform_python_implementation != \"PyPy\"->firebase-admin) (1.6.3)\n",
      "Requirement already satisfied: protobuf>=3.4.0 in c:\\users\\lexdy\\appdata\\local\\programs\\python\\python36\\lib\\site-packages (from google-api-core[grpc]<2.0.0dev,>=1.7.0; platform_python_implementation != \"PyPy\"->firebase-admin) (3.6.1)\n",
      "Requirement already satisfied: googleapis-common-protos!=1.5.4,<2.0dev,>=1.5.3 in c:\\users\\lexdy\\appdata\\local\\programs\\python\\python36\\lib\\site-packages (from google-api-core[grpc]<2.0.0dev,>=1.7.0; platform_python_implementation != \"PyPy\"->firebase-admin) (1.5.8)\n",
      "Requirement already satisfied: grpcio>=1.8.2; extra == \"grpc\" in c:\\users\\lexdy\\appdata\\local\\programs\\python\\python36\\lib\\site-packages (from google-api-core[grpc]<2.0.0dev,>=1.7.0; platform_python_implementation != \"PyPy\"->firebase-admin) (1.15.0)\n",
      "Requirement already satisfied: idna<2.8,>=2.5 in c:\\users\\lexdy\\appdata\\local\\programs\\python\\python36\\lib\\site-packages (from requests->cachecontrol>=0.12.4->firebase-admin) (2.7)\n",
      "Requirement already satisfied: certifi>=2017.4.17 in c:\\users\\lexdy\\appdata\\local\\programs\\python\\python36\\lib\\site-packages (from requests->cachecontrol>=0.12.4->firebase-admin) (2018.10.15)\n",
      "Requirement already satisfied: chardet<3.1.0,>=3.0.2 in c:\\users\\lexdy\\appdata\\local\\programs\\python\\python36\\lib\\site-packages (from requests->cachecontrol>=0.12.4->firebase-admin) (3.0.4)\n",
      "Requirement already satisfied: urllib3<1.24,>=1.21.1 in c:\\users\\lexdy\\appdata\\local\\programs\\python\\python36\\lib\\site-packages (from requests->cachecontrol>=0.12.4->firebase-admin) (1.22)\n",
      "Requirement already satisfied: rsa>=3.1.4 in c:\\users\\lexdy\\appdata\\local\\programs\\python\\python36\\lib\\site-packages (from google-auth<2.0dev,>=0.4.0->google-api-core[grpc]<2.0.0dev,>=1.7.0; platform_python_implementation != \"PyPy\"->firebase-admin) (4.0)\n",
      "Requirement already satisfied: pyasn1-modules>=0.2.1 in c:\\users\\lexdy\\appdata\\local\\programs\\python\\python36\\lib\\site-packages (from google-auth<2.0dev,>=0.4.0->google-api-core[grpc]<2.0.0dev,>=1.7.0; platform_python_implementation != \"PyPy\"->firebase-admin) (0.2.4)\n",
      "Requirement already satisfied: cachetools>=2.0.0 in c:\\users\\lexdy\\appdata\\local\\programs\\python\\python36\\lib\\site-packages (from google-auth<2.0dev,>=0.4.0->google-api-core[grpc]<2.0.0dev,>=1.7.0; platform_python_implementation != \"PyPy\"->firebase-admin) (3.1.0)\n",
      "Requirement already satisfied: pyasn1>=0.1.3 in c:\\users\\lexdy\\appdata\\local\\programs\\python\\python36\\lib\\site-packages (from rsa>=3.1.4->google-auth<2.0dev,>=0.4.0->google-api-core[grpc]<2.0.0dev,>=1.7.0; platform_python_implementation != \"PyPy\"->firebase-admin) (0.4.5)\n",
      "Requirement already satisfied: keras in c:\\users\\lexdy\\appdata\\local\\programs\\python\\python36\\lib\\site-packages (2.2.4)\n",
      "Requirement already satisfied: scipy>=0.14 in c:\\users\\lexdy\\appdata\\local\\programs\\python\\python36\\lib\\site-packages (from keras) (1.1.0)\n",
      "Requirement already satisfied: keras-preprocessing>=1.0.5 in c:\\users\\lexdy\\appdata\\local\\programs\\python\\python36\\lib\\site-packages (from keras) (1.0.5)\n",
      "Requirement already satisfied: numpy>=1.9.1 in c:\\users\\lexdy\\appdata\\local\\programs\\python\\python36\\lib\\site-packages (from keras) (1.14.5)\n",
      "Requirement already satisfied: keras-applications>=1.0.6 in c:\\users\\lexdy\\appdata\\local\\programs\\python\\python36\\lib\\site-packages (from keras) (1.0.6)\n",
      "Requirement already satisfied: pyyaml in c:\\users\\lexdy\\appdata\\local\\programs\\python\\python36\\lib\\site-packages (from keras) (3.13)\n",
      "Requirement already satisfied: h5py in c:\\users\\lexdy\\appdata\\local\\programs\\python\\python36\\lib\\site-packages (from keras) (2.8.0)\n",
      "Requirement already satisfied: six>=1.9.0 in c:\\users\\lexdy\\appdata\\local\\programs\\python\\python36\\lib\\site-packages (from keras) (1.11.0)\n"
     ]
    }
   ],
   "source": [
    "!pip install firebase-admin\n",
    "!pip install keras"
   ]
  },
  {
   "cell_type": "markdown",
   "metadata": {
    "colab_type": "text",
    "id": "crEIMUbugar6"
   },
   "source": [
    "# Inputs and Features\n",
    "\n",
    "As an input, our model will receive a json file with all the emails labeled and will pass as a dataframe. The features in our dataset are the language of the email, the type, the majors that applies to the email & the audience that applies.\n",
    "\n",
    "The labels in our datasets are:\n",
    "\n",
    "**Internship or Job Application** - Applies to internships opportunities from companies & job applications from the university.\n",
    "\n",
    "**Scholarships & Fellowship** - Applies scholarships opportunity for all the students & Fellowships from a variety of organizations.\n",
    "\n",
    "**Volunteer** - Volunteering experience for all the students.\n",
    "\n",
    "**Sports & Fitness** - A variety of opportunities to be part of a sport team of the university of be part of a class to do a variety of exercises.\n",
    "\n",
    "**Workshops** - Opportunities of a variety of workshops or \n",
    "\n",
    "**Class** - Any announcement regarding to a class of the university.\n",
    "\n",
    "**Competition** - Opportunities of competitions for the students.\n",
    "\n",
    "**Conference** - A variety of talks, conferences from a faculty member of the university or from a company.\n",
    "\n",
    "**Social Events** - An event for everybody to join. \n",
    "\n",
    "**Sale** - Any sale made within the university.\n",
    "\n",
    "**Research** - Any research opportunity for the students or announcement from the researches within the university.\n",
    "\n",
    "**Health & Security** - Announcements to do exercises like zumba & dancing. \n",
    "\n",
    "**Students Associations** - Any announcement regarding to the student associations from the university.\n",
    "\n",
    "**University Announcements** - Any announcement from the university. \n",
    "\n",
    "**Other** - Any other email that can not be categorized from the previous labels.\n",
    "\n",
    "**Spanish**\n",
    "\n",
    "**English**\n",
    "\n",
    "**Engineering**\n",
    "\n",
    "**Arts & Science**\n",
    "\n",
    "**Business**\n",
    "\n",
    "**Agriculture**\n",
    "\n",
    "**All Majors**\n",
    "\n",
    "**Undergradute Students**\n",
    "\n",
    "**Graduate Students**\n",
    "\n",
    "**Faculty**\n",
    "\n",
    "**All Students**\n",
    "\n",
    "**Everyone**"
   ]
  },
  {
   "cell_type": "markdown",
   "metadata": {
    "colab_type": "text",
    "id": "_dyXHuVYRuzG"
   },
   "source": [
    "## Using Keras to build neural network\n",
    "Reference: https://www.tensorflow.org/guide/keras#train_and_evaluate\n",
    "\n",
    "Reference 2: https://github.com/tensorflow/workshops/blob/master/extras/keras-bag-of-words/keras-bow-model.ipynb"
   ]
  },
  {
   "cell_type": "code",
   "execution_count": 2,
   "metadata": {
    "colab": {},
    "colab_type": "code",
    "id": "jkuiCEYaPFz3"
   },
   "outputs": [
    {
     "name": "stderr",
     "output_type": "stream",
     "text": [
      "Using TensorFlow backend.\n"
     ]
    }
   ],
   "source": [
    "from keras.preprocessing import text, sequence\n",
    "from keras import utils\n",
    "from keras.models import Sequential\n",
    "from keras.layers import Dense, Activation, Dropout\n",
    "from sklearn.preprocessing import MultiLabelBinarizer, LabelEncoder\n",
    "from sklearn.metrics import confusion_matrix\n",
    "from keras import regularizers\n",
    "from keras import metrics\n",
    "import pandas as pd\n",
    "import numpy as np\n",
    "import math\n",
    "import re\n",
    "import json\n",
    "from firebase_admin import db, credentials\n",
    "import pandas as pd\n",
    "import matplotlib as mpl\n",
    "import matplotlib.pyplot as plt\n",
    "from keras import optimizers\n",
    "%matplotlib inline\n",
    "\n",
    "pd.options.display.float_format = '{:.2f}'.format\n",
    "pd.options.display.max_rows = 15\n",
    "pd.options.mode.chained_assignment = None  # default='warn'\n",
    "\n",
    "seed = 7\n",
    "np.random.seed(seed)"
   ]
  },
  {
   "cell_type": "markdown",
   "metadata": {
    "colab_type": "text",
    "id": "kbry11VtSTdI"
   },
   "source": [
    "## Firebase Admin SDK credentials\n",
    "Our service account file is in our google drive so we import it from google drive by mounting the google drive into the colab."
   ]
  },
  {
   "cell_type": "code",
   "execution_count": 3,
   "metadata": {
    "colab": {},
    "colab_type": "code",
    "id": "XmSQl07O-2C1"
   },
   "outputs": [],
   "source": [
    "import firebase_admin\n",
    "if (not len(firebase_admin._apps)):\n",
    "    cred = credentials.Certificate('./easy-cartero-firebase-adminsdk-1sp67-ffb2ac83bf.json') \n",
    "    default_app = firebase_admin.initialize_app(cred, {'databaseURL': 'https://easy-cartero.firebaseio.com/'})"
   ]
  },
  {
   "cell_type": "code",
   "execution_count": 4,
   "metadata": {
    "colab": {},
    "colab_type": "code",
    "id": "HoVBrcCr_L5a"
   },
   "outputs": [],
   "source": [
    "# Get a database reference to our posts\n",
    "ref = db.reference();\n",
    "ref = ref.child('Production/labeled')\n",
    "data = ref.get()\n",
    "\n",
    "#convert dictionary into array of items\n",
    "emails = json.dumps(list(data.values()))\n",
    "df = pd.read_json(emails)\n",
    "df.describe()\n",
    "#We have the first 162 emails with NaN so we replace with default value\n",
    "for index in range(0,163):\n",
    "  df['audience'][index] = ['Everyone']"
   ]
  },
  {
   "cell_type": "code",
   "execution_count": 5,
   "metadata": {
    "colab": {},
    "colab_type": "code",
    "id": "-cYYTAf6_COK"
   },
   "outputs": [],
   "source": [
    "#Cleans up the body of the email by removing punctuation\n",
    "def sanitize_features(df):\n",
    "  \"\"\"\n",
    "  This function will replace urls with ' LINK '. It\n",
    "  also makes label column to collect all labels into \n",
    "  one column.\n",
    "  \"\"\"\n",
    "  print('Cleaning Data...')\n",
    "  df['labels'] = [[] for _ in range(len(df))]\n",
    "  #df['encoded_labels'] = [[] for _ in range(len(df))]\n",
    "  for index in range(0, df['body'].size):\n",
    "    df['body'][index] = re.sub(r'^https?:\\/\\/.*[\\r\\n]*', ' LINK ', str(df['body'][index]), flags=re.MULTILINE).lower()\n",
    "    labels = []\n",
    "    labels.extend(df['audience'][index])\n",
    "    labels.extend(df['emailType'][index])\n",
    "    labels.extend(df['majors'][index])\n",
    "    labels.append(df['language'][index])\n",
    "    df['labels'][index] = labels\n",
    "  print('Finished Clearning!')"
   ]
  },
  {
   "cell_type": "code",
   "execution_count": 6,
   "metadata": {
    "colab": {
     "base_uri": "https://localhost:8080/",
     "height": 577
    },
    "colab_type": "code",
    "id": "yRvs7FZMPX0O",
    "outputId": "38c4d667-e901-4325-f660-2e6d6a8f002c"
   },
   "outputs": [
    {
     "name": "stdout",
     "output_type": "stream",
     "text": [
      "Cleaning Data...\n",
      "Finished Clearning!\n"
     ]
    },
    {
     "data": {
      "text/html": [
       "<div>\n",
       "<style scoped>\n",
       "    .dataframe tbody tr th:only-of-type {\n",
       "        vertical-align: middle;\n",
       "    }\n",
       "\n",
       "    .dataframe tbody tr th {\n",
       "        vertical-align: top;\n",
       "    }\n",
       "\n",
       "    .dataframe thead th {\n",
       "        text-align: right;\n",
       "    }\n",
       "</style>\n",
       "<table border=\"1\" class=\"dataframe\">\n",
       "  <thead>\n",
       "    <tr style=\"text-align: right;\">\n",
       "      <th></th>\n",
       "      <th>body</th>\n",
       "      <th>labels</th>\n",
       "    </tr>\n",
       "  </thead>\n",
       "  <tbody>\n",
       "    <tr>\n",
       "      <th>0</th>\n",
       "      <td>¡saludos, colegiales!\\r\\r\\n\\r\\r\\n\\r\\r\\nel depa...</td>\n",
       "      <td>[Everyone, University Announcement, Arts &amp; Sci...</td>\n",
       "    </tr>\n",
       "    <tr>\n",
       "      <th>1</th>\n",
       "      <td>¡saludos, colegiales!\\r\\r\\n\\r\\r\\n¿te has pregu...</td>\n",
       "      <td>[Everyone, Class, Arts &amp; Sciences, Spanish]</td>\n",
       "    </tr>\n",
       "    <tr>\n",
       "      <th>2</th>\n",
       "      <td>el comité de búsqueda y consulta del senado ac...</td>\n",
       "      <td>[Everyone, Competition, University Announcemen...</td>\n",
       "    </tr>\n",
       "    <tr>\n",
       "      <th>3</th>\n",
       "      <td>¡saludos, colegiales y comunidad en general!\\r...</td>\n",
       "      <td>[Everyone, Sports &amp; Fitness, Class, All Majors...</td>\n",
       "    </tr>\n",
       "    <tr>\n",
       "      <th>4</th>\n",
       "      <td>el comite de búsqueda y consulta para el nombr...</td>\n",
       "      <td>[Everyone, Competition, University Announcemen...</td>\n",
       "    </tr>\n",
       "    <tr>\n",
       "      <th>5</th>\n",
       "      <td>estimada comunidad universitaria,\\r\\r\\n\\r\\r\\nl...</td>\n",
       "      <td>[Everyone, Competition, Business, Spanish]</td>\n",
       "    </tr>\n",
       "    <tr>\n",
       "      <th>6</th>\n",
       "      <td>¡¡saludos colegiales!!\\r\\r\\n\\r\\r\\nven, anímate...</td>\n",
       "      <td>[Everyone, Sports &amp; Fitness, Class, All Majors...</td>\n",
       "    </tr>\n",
       "    <tr>\n",
       "      <th>...</th>\n",
       "      <td>...</td>\n",
       "      <td>...</td>\n",
       "    </tr>\n",
       "    <tr>\n",
       "      <th>1394</th>\n",
       "      <td>faltan 32 días para el evento por la vida y el...</td>\n",
       "      <td>[Everyone, Volunteer, University Announcement,...</td>\n",
       "    </tr>\n",
       "    <tr>\n",
       "      <th>1395</th>\n",
       "      <td>saludos colegiales,\\r\\r\\n\\r\\r\\ncover letters a...</td>\n",
       "      <td>[Undergraduate Student, Graduate Student, Work...</td>\n",
       "    </tr>\n",
       "    <tr>\n",
       "      <th>1396</th>\n",
       "      <td>saludos colegiales,\\r\\r\\n\\r\\r\\ncover letters a...</td>\n",
       "      <td>[Everyone, Workshop, Sale, Student Association...</td>\n",
       "    </tr>\n",
       "    <tr>\n",
       "      <th>1397</th>\n",
       "      <td>por este medio les invitamos a la charla \\r\\r\\...</td>\n",
       "      <td>[Everyone, Conference, All Majors, Spanish]</td>\n",
       "    </tr>\n",
       "    <tr>\n",
       "      <th>1398</th>\n",
       "      <td>estudiantes de inme, inin y kine interesados e...</td>\n",
       "      <td>[Undergraduate Student, Student Associations, ...</td>\n",
       "    </tr>\n",
       "    <tr>\n",
       "      <th>1399</th>\n",
       "      <td>greetings colegiales!\\r\\r\\n\\r\\r\\n\\r\\r\\n\\r\\r\\n\\...</td>\n",
       "      <td>[All Students, Internship or Job Application, ...</td>\n",
       "    </tr>\n",
       "    <tr>\n",
       "      <th>1400</th>\n",
       "      <td>la división de educación continua y estudios p...</td>\n",
       "      <td>[All Students, Class, University Announcement,...</td>\n",
       "    </tr>\n",
       "  </tbody>\n",
       "</table>\n",
       "<p>1401 rows × 2 columns</p>\n",
       "</div>"
      ],
      "text/plain": [
       "                                                   body  \\\n",
       "0     ¡saludos, colegiales!\\r\\r\\n\\r\\r\\n\\r\\r\\nel depa...   \n",
       "1     ¡saludos, colegiales!\\r\\r\\n\\r\\r\\n¿te has pregu...   \n",
       "2     el comité de búsqueda y consulta del senado ac...   \n",
       "3     ¡saludos, colegiales y comunidad en general!\\r...   \n",
       "4     el comite de búsqueda y consulta para el nombr...   \n",
       "5     estimada comunidad universitaria,\\r\\r\\n\\r\\r\\nl...   \n",
       "6     ¡¡saludos colegiales!!\\r\\r\\n\\r\\r\\nven, anímate...   \n",
       "...                                                 ...   \n",
       "1394  faltan 32 días para el evento por la vida y el...   \n",
       "1395  saludos colegiales,\\r\\r\\n\\r\\r\\ncover letters a...   \n",
       "1396  saludos colegiales,\\r\\r\\n\\r\\r\\ncover letters a...   \n",
       "1397  por este medio les invitamos a la charla \\r\\r\\...   \n",
       "1398  estudiantes de inme, inin y kine interesados e...   \n",
       "1399  greetings colegiales!\\r\\r\\n\\r\\r\\n\\r\\r\\n\\r\\r\\n\\...   \n",
       "1400  la división de educación continua y estudios p...   \n",
       "\n",
       "                                                 labels  \n",
       "0     [Everyone, University Announcement, Arts & Sci...  \n",
       "1           [Everyone, Class, Arts & Sciences, Spanish]  \n",
       "2     [Everyone, Competition, University Announcemen...  \n",
       "3     [Everyone, Sports & Fitness, Class, All Majors...  \n",
       "4     [Everyone, Competition, University Announcemen...  \n",
       "5            [Everyone, Competition, Business, Spanish]  \n",
       "6     [Everyone, Sports & Fitness, Class, All Majors...  \n",
       "...                                                 ...  \n",
       "1394  [Everyone, Volunteer, University Announcement,...  \n",
       "1395  [Undergraduate Student, Graduate Student, Work...  \n",
       "1396  [Everyone, Workshop, Sale, Student Association...  \n",
       "1397        [Everyone, Conference, All Majors, Spanish]  \n",
       "1398  [Undergraduate Student, Student Associations, ...  \n",
       "1399  [All Students, Internship or Job Application, ...  \n",
       "1400  [All Students, Class, University Announcement,...  \n",
       "\n",
       "[1401 rows x 2 columns]"
      ]
     },
     "execution_count": 6,
     "metadata": {},
     "output_type": "execute_result"
    }
   ],
   "source": [
    "##clean data and remove unnecessary columns\n",
    "sanitize_features(df)\n",
    "df.drop(columns=['audience','author', 'date', 'emailType', 'key', 'language', 'majors', 'subject'])"
   ]
  },
  {
   "cell_type": "code",
   "execution_count": 7,
   "metadata": {
    "colab": {
     "base_uri": "https://localhost:8080/",
     "height": 85
    },
    "colab_type": "code",
    "id": "mly2-0oe-7Sx",
    "outputId": "aca60ec5-9f28-4e70-cc38-3629a12d4c7d"
   },
   "outputs": [],
   "source": [
    "possible_labels = ['Internship or Job Application','Scholarships & Fellowship','Volunteer','Sports & Fitness','Workshop','Class',\n",
    "                    'Competition','Conference','Social Events','Sale','Research','Health & Security','Student Associations',\n",
    "                    'University Announcement', 'Other','Spanish','English','Engineering','Arts & Sciences','Business','Agriculture',\n",
    "                    'All Majors','Undergraduate Student','Graduate Student','Faculty','All Students','Everyone']\n",
    "\n",
    "## shuffle data\n",
    "df.reindex(np.random.permutation(df.index))\n",
    "#define training data size\n",
    "train_data_ratio = 1.0\n",
    "training_size = int(len(df) * train_data_ratio)\n",
    "\n",
    "#split data into training and validation data\n",
    "training_emails = df['body'][:training_size]\n",
    "training_labels = df['labels'][:training_size]\n",
    "\n",
    "validation_emails = df['body'][:training_size]\n",
    "validation_labels = df['labels'][:training_size]\n",
    "\n",
    "from sklearn.feature_extraction.text import CountVectorizer\n",
    "vectorizer = CountVectorizer()\n",
    "vectorizer.fit_transform(df['body']).todense()\n",
    "\n",
    "vocabulary_size = len(vectorizer.vocabulary_) \n",
    "tokenize = text.Tokenizer(num_words=vocabulary_size, char_level=False, lower=False, split=' ')\n",
    "\n",
    "tokenize.fit_on_texts(training_emails) # only fit on train\n",
    "tokenized_emails_train = tokenize.texts_to_matrix(training_emails)\n",
    "tokenized_emails_validation = tokenize.texts_to_matrix(validation_emails)\n",
    "\n",
    "# Use sklearn utility to convert label strings to numbered index\n",
    "encoder = MultiLabelBinarizer(classes= possible_labels)\n",
    "encoder.fit(df['labels'])\n",
    "encoded_training = encoder.transform(training_labels)\n",
    "encoded_validation = encoder.transform(validation_labels)\n",
    "num_classes = len(possible_labels)"
   ]
  },
  {
   "cell_type": "code",
   "execution_count": 8,
   "metadata": {
    "colab": {},
    "colab_type": "code",
    "id": "JK4wM8upXYox"
   },
   "outputs": [],
   "source": [
    "\n",
    "def build_model(l1_reg, l2_reg, learning_rate, vocabulary_size, num_classes):\n",
    "  model = Sequential([\n",
    "    Dense(2048, input_shape = (vocabulary_size,), activation = 'relu', kernel_regularizer=regularizers.l2(l2_reg), activity_regularizer=regularizers.l1(l1_reg)),\n",
    "    Dense(1024, activation = 'relu', kernel_regularizer=regularizers.l2(l2_reg), activity_regularizer=regularizers.l1(l1_reg)),\n",
    "    Dense(num_classes, activation='sigmoid')\n",
    "  ])\n",
    "  model.compile(optimizer = optimizers.Adam(lr = learning_rate),\n",
    "                loss ='binary_crossentropy',\n",
    "                metrics = [metrics.binary_accuracy])\n",
    "  return model"
   ]
  },
  {
   "cell_type": "markdown",
   "metadata": {
    "colab_type": "text",
    "id": "b0lB5MzOcUlI"
   },
   "source": [
    "# Training Our Model"
   ]
  },
  {
   "cell_type": "code",
   "execution_count": 9,
   "metadata": {
    "colab": {
     "base_uri": "https://localhost:8080/",
     "height": 272
    },
    "colab_type": "code",
    "id": "l8KsjbHkrA-A",
    "outputId": "a81a56ab-1f07-4a2a-b477-91c6e9c4fe96"
   },
   "outputs": [
    {
     "name": "stdout",
     "output_type": "stream",
     "text": [
      "Train on 840 samples, validate on 561 samples\n",
      "Epoch 1/5\n",
      "840/840 [==============================] - 12s 14ms/step - loss: 0.5235 - binary_accuracy: 0.8013 - val_loss: 0.4280 - val_binary_accuracy: 0.8668\n",
      "Epoch 2/5\n",
      "840/840 [==============================] - 1s 1ms/step - loss: 0.3539 - binary_accuracy: 0.8939 - val_loss: 0.3734 - val_binary_accuracy: 0.8792\n",
      "Epoch 3/5\n",
      "840/840 [==============================] - 1s 1ms/step - loss: 0.2790 - binary_accuracy: 0.9207 - val_loss: 0.3714 - val_binary_accuracy: 0.8847\n",
      "Epoch 4/5\n",
      "840/840 [==============================] - 1s 1ms/step - loss: 0.2257 - binary_accuracy: 0.9483 - val_loss: 0.3580 - val_binary_accuracy: 0.8843\n",
      "Epoch 5/5\n",
      "840/840 [==============================] - 1s 1ms/step - loss: 0.1895 - binary_accuracy: 0.9613 - val_loss: 0.3630 - val_binary_accuracy: 0.8824\n",
      "1401/1401 [==============================] - 0s 320us/step\n",
      "Test score: 0.24851670129481254\n",
      "Test accuracy: 0.9351785692208839\n",
      "[0.24851670129481254, 0.9351785692208839]\n"
     ]
    }
   ],
   "source": [
    "def train_model(model, tokenized_emails_train, encoded_label_training, tokenized_emails_validation, encoded__label_validation, batch_size = 150, steps = 100, epochs = 5, verbose = 1, validation_split = 0.5):\n",
    "  train = model.fit(tokenized_emails_train, encoded_training,\n",
    "                    batch_size= batch_size, \n",
    "                    epochs= epochs, \n",
    "                    verbose= verbose,\n",
    "                    validation_split= validation_split)\n",
    "  evaluation = model.evaluate(tokenized_emails_validation,\n",
    "                            encoded__label_validation, \n",
    "                            batch_size= batch_size, \n",
    "                            verbose= verbose)\n",
    "  print('Test score:', evaluation[0])\n",
    "  print('Test accuracy:', evaluation[1])\n",
    "  print (evaluation)\n",
    "  return train\n",
    "\n",
    "batch_size = 100\n",
    "steps = 75\n",
    "epochs = 5\n",
    "verbose = 1\n",
    "validation_split = 0.4\n",
    "L1_regularization = 0.0000025\n",
    "L2_regularization = 0.00000025\n",
    "LEARNING_RATE = 0.001\n",
    "Positive_Label_Threshold = 0.5\n",
    "\n",
    "model = build_model(\n",
    "  l1_reg = L1_regularization,\n",
    "  l2_reg = L2_regularization, \n",
    "  learning_rate = LEARNING_RATE,\n",
    "  vocabulary_size = len(vectorizer.vocabulary_),\n",
    "  num_classes = num_classes\n",
    ")\n",
    "\n",
    "history = train_model(\n",
    "  model = model,\n",
    "  tokenized_emails_train = tokenized_emails_train,\n",
    "  encoded_label_training = encoded_training,\n",
    "  tokenized_emails_validation = tokenized_emails_validation,\n",
    "  encoded__label_validation = encoded_validation,\n",
    "  batch_size = batch_size,\n",
    "  steps = steps,\n",
    "  epochs = epochs,\n",
    "  verbose = verbose,\n",
    "  validation_split = validation_split\n",
    ")"
   ]
  },
  {
   "cell_type": "markdown",
   "metadata": {
    "colab_type": "text",
    "id": "p2cp5828KAYN"
   },
   "source": [
    "Reference: https://machinelearningmastery.com/display-deep-learning-model-training-history-in-keras/"
   ]
  },
  {
   "cell_type": "markdown",
   "metadata": {
    "colab_type": "text",
    "id": "WcpixKIEK2FE"
   },
   "source": [
    "## Metrics & testing"
   ]
  },
  {
   "cell_type": "code",
   "execution_count": 13,
   "metadata": {
    "colab": {
     "base_uri": "https://localhost:8080/",
     "height": 1150
    },
    "colab_type": "code",
    "id": "5m4F08IN3iut",
    "outputId": "7c34d06d-1ef8-4782-9d22-b0853fe2d5fc"
   },
   "outputs": [],
   "source": [
    "from sklearn import metrics\n",
    "predictions = model.predict(tokenized_emails_train)"
   ]
  },
  {
   "cell_type": "code",
   "execution_count": null,
   "metadata": {
    "colab": {},
    "colab_type": "code",
    "id": "jYlIVQIq9H1W"
   },
   "outputs": [],
   "source": [
    "def extract_labels_from_prediction(possible_labels, prediction, threshold):\n",
    "  labels = []\n",
    "  for index in range(0, len(possible_labels)):\n",
    "    if(prediction[index] >= threshold):\n",
    "      labels.append(possible_labels[index])\n",
    "  return labels"
   ]
  },
  {
   "cell_type": "code",
   "execution_count": null,
   "metadata": {
    "colab": {
     "base_uri": "https://localhost:8080/",
     "height": 570778
    },
    "colab_type": "code",
    "id": "EsNWVujJ9Kbi",
    "outputId": "3820ae89-6b19-49fd-a074-7c1ed66fa1ae"
   },
   "outputs": [],
   "source": [
    "for i in range(0, len(predictions)):\n",
    "  predicted_label = extract_labels_from_prediction(encoder.classes_, predictions[i], Positive_Label_Threshold)\n",
    "  actual_labels = extract_labels_from_prediction(encoder.classes_, encoded_training[i], Positive_Label_Threshold)\n",
    "  print(training_emails[i])\n",
    "  print(\"Predicted labels: \" + str(predicted_label) + \"\\n\")\n",
    "  print(\"Actual labels: \" + str(actual_labels) + \"\\n\") "
   ]
  }
 ],
 "metadata": {
  "colab": {
   "collapsed_sections": [],
   "name": "Mexiricans Easy Cartero",
   "provenance": [],
   "version": "0.3.2"
  },
  "kernelspec": {
   "display_name": "Python 3",
   "language": "python",
   "name": "python3"
  },
  "language_info": {
   "codemirror_mode": {
    "name": "ipython",
    "version": 3
   },
   "file_extension": ".py",
   "mimetype": "text/x-python",
   "name": "python",
   "nbconvert_exporter": "python",
   "pygments_lexer": "ipython3",
   "version": "3.6.6"
  }
 },
 "nbformat": 4,
 "nbformat_minor": 1
}
